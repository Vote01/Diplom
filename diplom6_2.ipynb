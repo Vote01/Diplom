{
  "nbformat": 4,
  "nbformat_minor": 0,
  "metadata": {
    "colab": {
      "provenance": [],
      "authorship_tag": "ABX9TyMXqDzroXoIkZGMF4Z/v/4t",
      "include_colab_link": true
    },
    "kernelspec": {
      "name": "python3",
      "display_name": "Python 3"
    },
    "language_info": {
      "name": "python"
    }
  },
  "cells": [
    {
      "cell_type": "markdown",
      "metadata": {
        "id": "view-in-github",
        "colab_type": "text"
      },
      "source": [
        "<a href=\"https://colab.research.google.com/github/Vote01/Diplom/blob/main/diplom6_2.ipynb\" target=\"_parent\"><img src=\"https://colab.research.google.com/assets/colab-badge.svg\" alt=\"Open In Colab\"/></a>"
      ]
    },
    {
      "cell_type": "code",
      "execution_count": null,
      "metadata": {
        "id": "DFYruUvxRjMq",
        "colab": {
          "base_uri": "https://localhost:8080/"
        },
        "outputId": "33be372f-90c7-4f57-b94f-24da2a6c21d9"
      },
      "outputs": [
        {
          "output_type": "stream",
          "name": "stdout",
          "text": [
            "Mounted at /content/drive/\n"
          ]
        }
      ],
      "source": [
        "# Подключаем гугл диск с данными\n",
        "from google.colab import drive\n",
        "drive.mount('/content/drive/')"
      ]
    },
    {
      "cell_type": "code",
      "source": [
        "import json\n",
        "import time\n",
        "from matplotlib import pyplot\n",
        "import math\n",
        "import numpy as np\n",
        "import pandas as pd\n",
        "import numpy as np\n",
        "import pywt\n",
        "import tensorflow as tf\n",
        "\n",
        "#from keras.layers import Dense, Dropout, LSTM, Bidirectional\n",
        "from keras.regularizers import l1_l2, l1, l2\n",
        "#from keras import regularizers\n",
        "from tensorflow import keras\n",
        "from tensorflow.keras.layers import Dense, Flatten, Dropout, concatenate, LSTM, Conv2D, Embedding, Reshape, Bidirectional\n",
        "from keras.models import Sequential\n",
        "from keras.utils import plot_model\n",
        "\n",
        "from keras.models import Sequential\n",
        "from keras.layers import Conv1D, BatchNormalization, GlobalMaxPooling1D, Dense, Activation, GlobalMaxPooling2D"
      ],
      "metadata": {
        "id": "57EvZUDpRkaZ"
      },
      "execution_count": null,
      "outputs": []
    },
    {
      "cell_type": "code",
      "source": [
        "size = 2500\n",
        "DsX = np.empty(0)\n",
        "DsY =  np.empty((0,5))"
      ],
      "metadata": {
        "id": "tIVpCh_ty82d"
      },
      "execution_count": null,
      "outputs": []
    },
    {
      "cell_type": "code",
      "source": [
        "class CSIDataSet(object):\n",
        "    \"\"\"docstring\"\"\"\n",
        "\n",
        "    def __init__(self, filename, visibleExamples=0, max_examples=2500):\n",
        "        \"\"\"Constructor\"\"\"\n",
        "        self.filename = filename\n",
        "        self.data = []\n",
        "        '''Открываем файл с датасетом'''\n",
        "        with open(filename, \"r\") as read_file:\n",
        "           # self.data = json.load(read_file)\n",
        "            self.data = json.load(read_file)[:max_examples]\n",
        "        ''' Выводим 3 строки датасета, для наглядности '''\n",
        "        print(\"Examples from dataset\" + filename)\n",
        "        for i in range(visibleExamples):\n",
        "          print(str(i) + \": \" + str(self.data[i]))\n",
        "\n",
        "        ''' Определяем количество данных '''\n",
        "        self.packetCount = len(self.data)\n",
        "        print(\"All count: \"+str(self.packetCount))\n",
        "    def getSetWith(self, count):\n",
        "      \"\"\"Метод для возвращения массива с указанным количеством элементов\"\"\"\n",
        "      if count <= len(self.data):\n",
        "         return self.data[:count]\n",
        "      else:\n",
        "         print(\"Count exceeds the number of elements in the dataset\")\n",
        "         return None"
      ],
      "metadata": {
        "id": "2dVCh_TQRkYa"
      },
      "execution_count": null,
      "outputs": []
    },
    {
      "cell_type": "code",
      "source": [
        "#амплитуды\n",
        "file_paths1 = [f\"//content/drive/MyDrive/Diplom/part2/classes/cl1/data_class_1_ampl_{i}.json\" for i in range(1, 10)]\n",
        "data_sets1a = [CSIDataSet(file_path).getSetWith(size) for file_path in file_paths1]\n",
        "file_paths2 = [f\"//content/drive/MyDrive/Diplom/part2/classes/cl2/data_class_2_ampl_{i}.json\" for i in range(1, 10)]\n",
        "data_sets2a = [CSIDataSet(file_path).getSetWith(size) for file_path in file_paths2]\n",
        "file_paths3 = [f\"//content/drive/MyDrive/Diplom/part2/classes/cl3/data_class_3_ampl_{i}.json\" for i in range(1, 10)]\n",
        "data_sets3a = [CSIDataSet(file_path).getSetWith(size) for file_path in file_paths3]\n",
        "file_paths4 = [f\"//content/drive/MyDrive/Diplom/part2/classes/cl4/data_class_4_ampl_{i}.json\" for i in range(1, 10)]\n",
        "data_sets4a = [CSIDataSet(file_path).getSetWith(size) for file_path in file_paths4]\n",
        "file_paths5 = [f\"//content/drive/MyDrive/Diplom/part2/classes/cl5/data_class_5_ampl_{i}.json\" for i in range(1, 10)]\n",
        "data_sets5a = [CSIDataSet(file_path).getSetWith(size) for file_path in file_paths5]\n",
        "\n",
        "#для удобства перекинула по 9 файлов в рамках одного класса - в отдельную папку"
      ],
      "metadata": {
        "id": "5GUQoDOpzLpM"
      },
      "execution_count": null,
      "outputs": []
    },
    {
      "cell_type": "code",
      "source": [
        "#фазы\n",
        "\n",
        "file_paths1 = [f\"//content/drive/MyDrive/Diplom/part2/classes/cl1/data_class_1_{i}_ph.json\" for i in range(1, 10)]\n",
        "data_sets1f = [CSIDataSet(file_path).getSetWith(size) for file_path in file_paths1]\n",
        "file_paths2 = [f\"//content/drive/MyDrive/Diplom/part2/classes/cl2/data_class_2_{i}_ph.json\" for i in range(1, 10)]\n",
        "data_sets2f = [CSIDataSet(file_path).getSetWith(size) for file_path in file_paths2]\n",
        "file_paths3 = [f\"//content/drive/MyDrive/Diplom/part2/classes/cl3/data_class_3_{i}_ph.json\" for i in range(1, 10)]\n",
        "data_sets3f = [CSIDataSet(file_path).getSetWith(size) for file_path in file_paths3]\n",
        "file_paths4 = [f\"//content/drive/MyDrive/Diplom/part2/classes/cl4/data_class_4_{i}_ph.json\" for i in range(1, 10)]\n",
        "data_sets4f = [CSIDataSet(file_path).getSetWith(size) for file_path in file_paths4]\n",
        "file_paths5 = [f\"//content/drive/MyDrive/Diplom/part2/classes/cl5/data_class_5_{i}_ph.json\" for i in range(1, 10)]\n",
        "data_sets5f = [CSIDataSet(file_path).getSetWith(size) for file_path in file_paths5]"
      ],
      "metadata": {
        "id": "5O7pjw8LQ1cE"
      },
      "execution_count": null,
      "outputs": []
    },
    {
      "cell_type": "code",
      "source": [
        "ds1=np.asarray(data_setsa)\n",
        "ds1.shape"
      ],
      "metadata": {
        "colab": {
          "base_uri": "https://localhost:8080/"
        },
        "id": "f4SfcVOS00AW",
        "outputId": "975a8b41-3b74-440e-ba5c-8ecca302b77a"
      },
      "execution_count": null,
      "outputs": [
        {
          "output_type": "execute_result",
          "data": {
            "text/plain": [
              "(9, 2500, 56)"
            ]
          },
          "metadata": {},
          "execution_count": 6
        }
      ]
    },
    {
      "cell_type": "code",
      "source": [
        "d1a=np.asarray(data_sets1a)\n",
        "d2a=np.asarray(data_sets2a)\n",
        "d3a=np.asarray(data_sets3a)\n",
        "d4a=np.asarray(data_sets4a)\n",
        "d5a=np.asarray(data_sets5a)\n",
        "\n",
        "d1f=np.asarray(data_sets1f)\n",
        "d2f=np.asarray(data_sets2f)\n",
        "d3f=np.asarray(data_sets3f)\n",
        "d4f=np.asarray(data_sets4f)\n",
        "d5f=np.asarray(data_sets5f)"
      ],
      "metadata": {
        "id": "ZsUKYYTjDI10"
      },
      "execution_count": null,
      "outputs": []
    },
    {
      "cell_type": "code",
      "source": [
        "d1a=np.reshape(d1a, (2500, 504))\n",
        "d2a=np.reshape(d2a, (2500, 504))\n",
        "d3a=np.reshape(d3a, (2500, 504))\n",
        "d4a=np.reshape(d4a, (2500, 504))\n",
        "d5a=np.reshape(d5a, (2500, 504))\n",
        "\n",
        "d1f=np.reshape(d1f, (2500, 504))\n",
        "d2f=np.reshape(d2f, (2500, 504))\n",
        "d3f=np.reshape(d3f, (2500, 504))\n",
        "d4f=np.reshape(d4f, (2500, 504))\n",
        "d5f=np.reshape(d5f, (2500, 504))"
      ],
      "metadata": {
        "id": "pOnJSj8jDNmo"
      },
      "execution_count": null,
      "outputs": []
    },
    {
      "cell_type": "code",
      "source": [
        "data_sf=np.concatenate((d1f,d2f,d3f,d4f,d5f))\n",
        "DsXf=data_sf\n",
        "DsXf.shape"
      ],
      "metadata": {
        "colab": {
          "base_uri": "https://localhost:8080/"
        },
        "id": "EbTT9aQxDRzw",
        "outputId": "f5da4002-a009-43b8-ee41-3a8b04d0adaa"
      },
      "execution_count": null,
      "outputs": [
        {
          "output_type": "execute_result",
          "data": {
            "text/plain": [
              "(12500, 504)"
            ]
          },
          "metadata": {},
          "execution_count": 9
        }
      ]
    },
    {
      "cell_type": "code",
      "source": [
        "data_sa=np.concatenate((d1a,d2a,d3a,d4a,d5a))\n",
        "DsXa=data_sa\n",
        "DsXa.shape"
      ],
      "metadata": {
        "colab": {
          "base_uri": "https://localhost:8080/"
        },
        "id": "pw-X1ygVDVJg",
        "outputId": "271bd8f3-f360-434e-fdfa-6a7fb4f6d63c"
      },
      "execution_count": null,
      "outputs": [
        {
          "output_type": "execute_result",
          "data": {
            "text/plain": [
              "(12500, 504)"
            ]
          },
          "metadata": {},
          "execution_count": 10
        }
      ]
    },
    {
      "cell_type": "code",
      "source": [
        "data_s=np.concatenate((d1,d2,d3,d4,d5))\n",
        "DsX=data_s\n",
        "DsX.shape"
      ],
      "metadata": {
        "colab": {
          "base_uri": "https://localhost:8080/"
        },
        "id": "X18UqzUI9Xv3",
        "outputId": "65d909c8-612f-4091-fee2-08152abe966a"
      },
      "execution_count": null,
      "outputs": [
        {
          "output_type": "execute_result",
          "data": {
            "text/plain": [
              "(12500, 504)"
            ]
          },
          "metadata": {},
          "execution_count": 8
        }
      ]
    },
    {
      "cell_type": "code",
      "source": [
        "for i in range(5):\n",
        "    array = np.zeros((1,5))\n",
        "    array[0,i] = 1\n",
        "    for o in range(size):\n",
        "       DsY = np.append(DsY, array, axis=0)\n",
        "DsY.shape"
      ],
      "metadata": {
        "id": "8CCGg2iU0Jkp",
        "colab": {
          "base_uri": "https://localhost:8080/"
        },
        "outputId": "e7945290-2da0-49b2-aa6c-f135b511c1ae"
      },
      "execution_count": null,
      "outputs": [
        {
          "output_type": "execute_result",
          "data": {
            "text/plain": [
              "(12500, 5)"
            ]
          },
          "metadata": {},
          "execution_count": 11
        }
      ]
    },
    {
      "cell_type": "code",
      "source": [
        "#LSTM\n",
        "def newModel(input_shape):\n",
        "   model = Sequential()\n",
        "   model.add(BatchNormalization())\n",
        "   model.add(GlobalMaxPooling1D())\n",
        "   model.add(Reshape((1, 504)))\n",
        "   model.add(LSTM(units=64, return_sequences=False))\n",
        "   model.add(Dropout(0.2))\n",
        "   #model.add(Dense(64, kernel_regularizer=l1_l2(l1=0.0001, l2=0.01)))\n",
        "   model.add(Dense(64, kernel_regularizer=l2(0.001)))\n",
        "   model.add(Dense(5, activation='softmax'))\n",
        "   model.compile(optimizer='adam', loss='categorical_crossentropy', metrics=['accuracy'])\n",
        "   return model"
      ],
      "metadata": {
        "id": "ds_CHy1bRdOI"
      },
      "execution_count": null,
      "outputs": []
    },
    {
      "cell_type": "code",
      "source": [
        "#BLSTM\n",
        "\n",
        "from tensorflow.keras.layers import  Attention, Concatenate\n",
        "\n",
        "def newModel(input_shape):\n",
        "    model = Sequential()\n",
        "    model.add(BatchNormalization())\n",
        "    model.add(GlobalMaxPooling1D())\n",
        "    model.add(Reshape((1, 504)))\n",
        "    model.add(Bidirectional(LSTM(units=64, return_sequences=False)))\n",
        "    model.add(Dropout(0.2))\n",
        "   # model.add(Dense(64, kernel_regularizer=l1_l2(l1=0.0001, l2=0.01)))\n",
        "    #model.add(Dense(64, kernel_regularizer=l1(0.0001)))\n",
        "    model.add(Dense(5, activation='softmax'))\n",
        "\n",
        "    model.compile(optimizer='adam', loss='categorical_crossentropy', metrics=['accuracy'])\n",
        "    return model"
      ],
      "metadata": {
        "id": "_rYCDildwdly"
      },
      "execution_count": null,
      "outputs": []
    },
    {
      "cell_type": "code",
      "source": [
        "#1D-CNN\n",
        "def newModel(input_shape):\n",
        "    model = Sequential()\n",
        "    model.add(Conv1D(filters=504, kernel_size=3, padding='same', input_shape=input_shape))\n",
        "    model.add(Activation('relu'))\n",
        "    model.add(BatchNormalization())\n",
        "    model.add(GlobalMaxPooling1D())\n",
        "    model.add(Dense(128, activation='relu'))\n",
        "    model.add(Dense(64, activation='relu'))\n",
        "    model.add(Dense(5, activation='softmax'))\n",
        "    model.compile(optimizer='adam', loss='categorical_crossentropy', metrics=['accuracy'])\n",
        "    return model"
      ],
      "metadata": {
        "id": "y7yNNHCYwUjX"
      },
      "execution_count": null,
      "outputs": []
    },
    {
      "cell_type": "code",
      "source": [
        "#1D-LSTM\n",
        "def newModel(input_shape):\n",
        "    model = Sequential()\n",
        "    model.add(Conv1D(filters=504, kernel_size=1, padding='same', input_shape=input_shape))\n",
        "    model.add(Activation('relu'))\n",
        "    model.add(BatchNormalization())\n",
        "    model.add(GlobalMaxPooling1D())\n",
        "    model.add(Reshape((1, 504)))\n",
        "    model.add(LSTM(units=64, return_sequences=False))\n",
        "    model.add(Dropout(0.2))\n",
        "    model.add(Dense(128, activation='relu'))\n",
        "    model.add(Dense(64, activation='relu'))\n",
        "    model.add(Dense(5, activation='softmax'))\n",
        "    model.compile(optimizer='adam', loss='categorical_crossentropy', metrics=['accuracy'])\n",
        "    return model"
      ],
      "metadata": {
        "id": "LtMZRMNowVLW"
      },
      "execution_count": null,
      "outputs": []
    },
    {
      "cell_type": "code",
      "source": [
        "#2D-CNN\n",
        "def newModel(input_shape):\n",
        "    model = Sequential()\n",
        "    model.add(Conv2D(filters=504, kernel_size=1, padding='same', input_shape=input_shape))\n",
        "    model.add(Activation('relu'))\n",
        "    model.add(BatchNormalization())\n",
        "    model.add(GlobalMaxPooling2D())\n",
        "    model.add(Dense(128, activation='relu'))\n",
        "    model.add(Dense(64, activation='relu'))\n",
        "    model.add(Dense(5, activation='softmax'))\n",
        "    model.compile(optimizer='adam', loss='categorical_crossentropy', metrics=['accuracy'])\n",
        "    return model"
      ],
      "metadata": {
        "id": "4WQJ4rZHwXs2"
      },
      "execution_count": null,
      "outputs": []
    },
    {
      "cell_type": "code",
      "source": [
        "model_count = 10\n",
        "Models = list()\n",
        "for i in range(model_count):\n",
        "  model = newModel(input_shape=(None, 504))\n",
        "  Models.append(model)"
      ],
      "metadata": {
        "id": "JOhzTE4wxVv2"
      },
      "execution_count": null,
      "outputs": []
    },
    {
      "cell_type": "code",
      "source": [
        "DsX=DsXf"
      ],
      "metadata": {
        "id": "f9CCbmW-DyWE"
      },
      "execution_count": null,
      "outputs": []
    },
    {
      "cell_type": "code",
      "source": [
        "DsX  = np.fft.fft(DsX)\n",
        "wavelet = 'db38'\n",
        "coeffs = pywt.wavedec(DsX, wavelet)"
      ],
      "metadata": {
        "id": "77f7VY5Me0qQ"
      },
      "execution_count": null,
      "outputs": []
    },
    {
      "cell_type": "code",
      "source": [
        "DsX = tf.expand_dims(DsX, axis=1)\n",
        "DsX.shape"
      ],
      "metadata": {
        "id": "ylgz8JvNXdFg",
        "colab": {
          "base_uri": "https://localhost:8080/"
        },
        "outputId": "b586e33d-9eff-41af-d77e-be1ce81b62d6"
      },
      "execution_count": null,
      "outputs": [
        {
          "output_type": "execute_result",
          "data": {
            "text/plain": [
              "TensorShape([12500, 1, 504])"
            ]
          },
          "metadata": {},
          "execution_count": 51
        }
      ]
    },
    {
      "cell_type": "code",
      "source": [
        "train_loss, val_loss, accuracy = list(), list(), list()\n",
        "index = 0\n",
        "st=time.time()\n",
        "for model in Models:\n",
        "\n",
        "  index += 1\n",
        "  start_time = time.time()\n",
        "  history = model.fit(DsX, DsY, epochs=200, batch_size=500, validation_split=0.1, verbose=0)\n",
        "  train_loss.append(history.history['loss'])\n",
        "  val_loss.append(history.history['val_loss'])\n",
        "  accuracy.append(history.history['accuracy'])\n",
        "  print(\"--- %s-я эпоха пройдена ---\" % (index))\n",
        "  print(\"--- %s секунд ---\" % (time.time() - start_time))\n",
        "print(\"--- cуммарно %s секунд ---\" % (time.time() - st))"
      ],
      "metadata": {
        "id": "aMPTxi1vD1bQ",
        "colab": {
          "base_uri": "https://localhost:8080/"
        },
        "outputId": "3c85b504-ff20-431e-d102-9adb871df8ca"
      },
      "execution_count": null,
      "outputs": [
        {
          "output_type": "stream",
          "name": "stderr",
          "text": [
            "WARNING:tensorflow:You are casting an input of type complex128 to an incompatible dtype float32.  This will discard the imaginary part and may not be what you intended.\n",
            "WARNING:tensorflow:You are casting an input of type complex128 to an incompatible dtype float32.  This will discard the imaginary part and may not be what you intended.\n",
            "WARNING:tensorflow:You are casting an input of type complex128 to an incompatible dtype float32.  This will discard the imaginary part and may not be what you intended.\n",
            "WARNING:tensorflow:You are casting an input of type complex128 to an incompatible dtype float32.  This will discard the imaginary part and may not be what you intended.\n"
          ]
        },
        {
          "output_type": "stream",
          "name": "stdout",
          "text": [
            "--- 1-я эпоха пройдена ---\n",
            "--- 383.2581434249878 секунд ---\n"
          ]
        },
        {
          "output_type": "stream",
          "name": "stderr",
          "text": [
            "WARNING:tensorflow:You are casting an input of type complex128 to an incompatible dtype float32.  This will discard the imaginary part and may not be what you intended.\n",
            "WARNING:tensorflow:You are casting an input of type complex128 to an incompatible dtype float32.  This will discard the imaginary part and may not be what you intended.\n",
            "WARNING:tensorflow:You are casting an input of type complex128 to an incompatible dtype float32.  This will discard the imaginary part and may not be what you intended.\n"
          ]
        },
        {
          "output_type": "stream",
          "name": "stdout",
          "text": [
            "--- 2-я эпоха пройдена ---\n",
            "--- 385.83870935440063 секунд ---\n"
          ]
        },
        {
          "output_type": "stream",
          "name": "stderr",
          "text": [
            "WARNING:tensorflow:You are casting an input of type complex128 to an incompatible dtype float32.  This will discard the imaginary part and may not be what you intended.\n",
            "WARNING:tensorflow:You are casting an input of type complex128 to an incompatible dtype float32.  This will discard the imaginary part and may not be what you intended.\n",
            "WARNING:tensorflow:You are casting an input of type complex128 to an incompatible dtype float32.  This will discard the imaginary part and may not be what you intended.\n"
          ]
        },
        {
          "output_type": "stream",
          "name": "stdout",
          "text": [
            "--- 3-я эпоха пройдена ---\n",
            "--- 352.46004343032837 секунд ---\n"
          ]
        },
        {
          "output_type": "stream",
          "name": "stderr",
          "text": [
            "WARNING:tensorflow:You are casting an input of type complex128 to an incompatible dtype float32.  This will discard the imaginary part and may not be what you intended.\n",
            "WARNING:tensorflow:You are casting an input of type complex128 to an incompatible dtype float32.  This will discard the imaginary part and may not be what you intended.\n",
            "WARNING:tensorflow:You are casting an input of type complex128 to an incompatible dtype float32.  This will discard the imaginary part and may not be what you intended.\n"
          ]
        },
        {
          "output_type": "stream",
          "name": "stdout",
          "text": [
            "--- 4-я эпоха пройдена ---\n",
            "--- 383.56113362312317 секунд ---\n"
          ]
        },
        {
          "output_type": "stream",
          "name": "stderr",
          "text": [
            "WARNING:tensorflow:You are casting an input of type complex128 to an incompatible dtype float32.  This will discard the imaginary part and may not be what you intended.\n",
            "WARNING:tensorflow:You are casting an input of type complex128 to an incompatible dtype float32.  This will discard the imaginary part and may not be what you intended.\n",
            "WARNING:tensorflow:You are casting an input of type complex128 to an incompatible dtype float32.  This will discard the imaginary part and may not be what you intended.\n"
          ]
        },
        {
          "output_type": "stream",
          "name": "stdout",
          "text": [
            "--- 5-я эпоха пройдена ---\n",
            "--- 383.75846099853516 секунд ---\n"
          ]
        },
        {
          "output_type": "stream",
          "name": "stderr",
          "text": [
            "WARNING:tensorflow:You are casting an input of type complex128 to an incompatible dtype float32.  This will discard the imaginary part and may not be what you intended.\n",
            "WARNING:tensorflow:You are casting an input of type complex128 to an incompatible dtype float32.  This will discard the imaginary part and may not be what you intended.\n",
            "WARNING:tensorflow:You are casting an input of type complex128 to an incompatible dtype float32.  This will discard the imaginary part and may not be what you intended.\n"
          ]
        },
        {
          "output_type": "stream",
          "name": "stdout",
          "text": [
            "--- 6-я эпоха пройдена ---\n",
            "--- 383.2192220687866 секунд ---\n"
          ]
        },
        {
          "output_type": "stream",
          "name": "stderr",
          "text": [
            "WARNING:tensorflow:You are casting an input of type complex128 to an incompatible dtype float32.  This will discard the imaginary part and may not be what you intended.\n",
            "WARNING:tensorflow:You are casting an input of type complex128 to an incompatible dtype float32.  This will discard the imaginary part and may not be what you intended.\n",
            "WARNING:tensorflow:You are casting an input of type complex128 to an incompatible dtype float32.  This will discard the imaginary part and may not be what you intended.\n"
          ]
        },
        {
          "output_type": "stream",
          "name": "stdout",
          "text": [
            "--- 7-я эпоха пройдена ---\n",
            "--- 383.2150435447693 секунд ---\n"
          ]
        },
        {
          "output_type": "stream",
          "name": "stderr",
          "text": [
            "WARNING:tensorflow:You are casting an input of type complex128 to an incompatible dtype float32.  This will discard the imaginary part and may not be what you intended.\n",
            "WARNING:tensorflow:You are casting an input of type complex128 to an incompatible dtype float32.  This will discard the imaginary part and may not be what you intended.\n",
            "WARNING:tensorflow:You are casting an input of type complex128 to an incompatible dtype float32.  This will discard the imaginary part and may not be what you intended.\n"
          ]
        },
        {
          "output_type": "stream",
          "name": "stdout",
          "text": [
            "--- 8-я эпоха пройдена ---\n",
            "--- 362.1757552623749 секунд ---\n"
          ]
        },
        {
          "output_type": "stream",
          "name": "stderr",
          "text": [
            "WARNING:tensorflow:You are casting an input of type complex128 to an incompatible dtype float32.  This will discard the imaginary part and may not be what you intended.\n",
            "WARNING:tensorflow:You are casting an input of type complex128 to an incompatible dtype float32.  This will discard the imaginary part and may not be what you intended.\n",
            "WARNING:tensorflow:You are casting an input of type complex128 to an incompatible dtype float32.  This will discard the imaginary part and may not be what you intended.\n"
          ]
        },
        {
          "output_type": "stream",
          "name": "stdout",
          "text": [
            "--- 9-я эпоха пройдена ---\n",
            "--- 383.2080600261688 секунд ---\n"
          ]
        },
        {
          "output_type": "stream",
          "name": "stderr",
          "text": [
            "WARNING:tensorflow:You are casting an input of type complex128 to an incompatible dtype float32.  This will discard the imaginary part and may not be what you intended.\n",
            "WARNING:tensorflow:You are casting an input of type complex128 to an incompatible dtype float32.  This will discard the imaginary part and may not be what you intended.\n"
          ]
        },
        {
          "output_type": "stream",
          "name": "stdout",
          "text": [
            "--- 10-я эпоха пройдена ---\n",
            "--- 383.2447259426117 секунд ---\n",
            "--- cуммарно 3783.941201686859 секунд ---\n"
          ]
        }
      ]
    },
    {
      "cell_type": "code",
      "source": [
        "true_list = list()\n",
        "tp, index = 0, 0\n",
        "for model in Models:\n",
        "  index += 1\n",
        "  pred_DsY = model.predict(DsX)\n",
        "  for i in range(len(pred_DsY)):\n",
        "    tp = (tp + 1) if np.argmax(pred_DsY[i]) == np.argmax(DsY[i]) else tp\n",
        "  true_list.append(tp/len(DsY))\n",
        "  print(tp/len(DsY))\n",
        "  tp = 0\n",
        "print(\"true_list\")\n",
        "print(true_list)\n",
        "print(\"Min:\", '%.4f' % min(true_list))\n",
        "print(\"Ave:\", '%.4f' % (sum(true_list)/len(true_list)))\n",
        "print(\"Max:\", '%.4f' % max(true_list))"
      ],
      "metadata": {
        "id": "fOIxaYssD5ss",
        "colab": {
          "base_uri": "https://localhost:8080/"
        },
        "outputId": "5b9e9460-af3b-4d2a-9a8e-5cae6609db3b"
      },
      "execution_count": null,
      "outputs": [
        {
          "output_type": "stream",
          "name": "stderr",
          "text": [
            "WARNING:tensorflow:You are casting an input of type complex128 to an incompatible dtype float32.  This will discard the imaginary part and may not be what you intended.\n"
          ]
        },
        {
          "output_type": "stream",
          "name": "stdout",
          "text": [
            "391/391 [==============================] - 1s 3ms/step\n"
          ]
        },
        {
          "output_type": "stream",
          "name": "stderr",
          "text": [
            "WARNING:tensorflow:You are casting an input of type complex128 to an incompatible dtype float32.  This will discard the imaginary part and may not be what you intended.\n"
          ]
        },
        {
          "output_type": "stream",
          "name": "stdout",
          "text": [
            "0.92544\n",
            "391/391 [==============================] - 1s 3ms/step\n"
          ]
        },
        {
          "output_type": "stream",
          "name": "stderr",
          "text": [
            "WARNING:tensorflow:You are casting an input of type complex128 to an incompatible dtype float32.  This will discard the imaginary part and may not be what you intended.\n"
          ]
        },
        {
          "output_type": "stream",
          "name": "stdout",
          "text": [
            "0.92448\n",
            "391/391 [==============================] - 2s 6ms/step\n"
          ]
        },
        {
          "output_type": "stream",
          "name": "stderr",
          "text": [
            "WARNING:tensorflow:You are casting an input of type complex128 to an incompatible dtype float32.  This will discard the imaginary part and may not be what you intended.\n"
          ]
        },
        {
          "output_type": "stream",
          "name": "stdout",
          "text": [
            "0.92568\n",
            "391/391 [==============================] - 3s 6ms/step\n"
          ]
        },
        {
          "output_type": "stream",
          "name": "stderr",
          "text": [
            "WARNING:tensorflow:You are casting an input of type complex128 to an incompatible dtype float32.  This will discard the imaginary part and may not be what you intended.\n"
          ]
        },
        {
          "output_type": "stream",
          "name": "stdout",
          "text": [
            "0.92488\n",
            "391/391 [==============================] - 2s 5ms/step\n"
          ]
        },
        {
          "output_type": "stream",
          "name": "stderr",
          "text": [
            "WARNING:tensorflow:You are casting an input of type complex128 to an incompatible dtype float32.  This will discard the imaginary part and may not be what you intended.\n"
          ]
        },
        {
          "output_type": "stream",
          "name": "stdout",
          "text": [
            "0.92504\n",
            "391/391 [==============================] - 1s 3ms/step\n",
            "0.92376\n"
          ]
        },
        {
          "output_type": "stream",
          "name": "stderr",
          "text": [
            "WARNING:tensorflow:You are casting an input of type complex128 to an incompatible dtype float32.  This will discard the imaginary part and may not be what you intended.\n"
          ]
        },
        {
          "output_type": "stream",
          "name": "stdout",
          "text": [
            "391/391 [==============================] - 1s 3ms/step\n",
            "0.92704\n"
          ]
        },
        {
          "output_type": "stream",
          "name": "stderr",
          "text": [
            "WARNING:tensorflow:You are casting an input of type complex128 to an incompatible dtype float32.  This will discard the imaginary part and may not be what you intended.\n"
          ]
        },
        {
          "output_type": "stream",
          "name": "stdout",
          "text": [
            "391/391 [==============================] - 1s 3ms/step\n",
            "0.92488\n"
          ]
        },
        {
          "output_type": "stream",
          "name": "stderr",
          "text": [
            "WARNING:tensorflow:You are casting an input of type complex128 to an incompatible dtype float32.  This will discard the imaginary part and may not be what you intended.\n"
          ]
        },
        {
          "output_type": "stream",
          "name": "stdout",
          "text": [
            "391/391 [==============================] - 1s 3ms/step\n"
          ]
        },
        {
          "output_type": "stream",
          "name": "stderr",
          "text": [
            "WARNING:tensorflow:You are casting an input of type complex128 to an incompatible dtype float32.  This will discard the imaginary part and may not be what you intended.\n"
          ]
        },
        {
          "output_type": "stream",
          "name": "stdout",
          "text": [
            "0.92488\n",
            "391/391 [==============================] - 2s 6ms/step\n",
            "0.8436\n",
            "true_list\n",
            "[0.92544, 0.92448, 0.92568, 0.92488, 0.92504, 0.92376, 0.92704, 0.92488, 0.92488, 0.8436]\n",
            "Min: 0.8436\n",
            "Ave: 0.9170\n",
            "Max: 0.9270\n"
          ]
        }
      ]
    },
    {
      "cell_type": "code",
      "source": [
        "from sklearn.metrics import confusion_matrix, classification_report\n",
        "pred_DsY = Models[0].predict(DsX)\n",
        "cm = confusion_matrix(np.argmax(DsY, axis=1), np.argmax(pred_DsY, axis=1))\n",
        "# Визуализация матрицы ошибок как графика со столбцами\n",
        "pyplot.imshow(cm, interpolation='nearest', cmap=pyplot.cm.Blues)\n",
        "pyplot.title('Матрица ошибок')\n",
        "pyplot.colorbar()"
      ],
      "metadata": {
        "colab": {
          "base_uri": "https://localhost:8080/",
          "height": 487
        },
        "id": "UdbhvQ72m--5",
        "outputId": "7b489fe5-4547-4be2-c67a-27caee683372"
      },
      "execution_count": null,
      "outputs": [
        {
          "output_type": "stream",
          "name": "stdout",
          "text": [
            "391/391 [==============================] - 1s 4ms/step\n"
          ]
        },
        {
          "output_type": "execute_result",
          "data": {
            "text/plain": [
              "<matplotlib.colorbar.Colorbar at 0x789b052934f0>"
            ]
          },
          "metadata": {},
          "execution_count": 32
        },
        {
          "output_type": "display_data",
          "data": {
            "text/plain": [
              "<Figure size 640x480 with 2 Axes>"
            ],
            "image/png": "[encoded data removed]"
          },
          "metadata": {}
        }
      ]
    },
    {
      "cell_type": "code",
      "source": [
        "pyplot.imshow(cm, interpolation='nearest', cmap=pyplot.cm.Blues)\n",
        "pyplot.title('Матрица ошибок')\n",
        "pyplot.colorbar()\n",
        "# Добавление подписей на оси\n",
        "classes = ['Стоять', 'Лежать', 'Сидеть', 'Идти', 'Бежать']\n",
        "tick_marks = np.arange(len(classes))\n",
        "pyplot.xticks(tick_marks, classes, rotation=45)\n",
        "pyplot.yticks(tick_marks, classes)\n",
        "# Добавление значений в ячейки матрицы\n",
        "thresh = cm.max() / 2.\n",
        "for i in range(cm.shape[0]):\n",
        "  for j in range(cm.shape[1]):\n",
        "    pyplot.text(j, i, format(cm[i, j], 'd'),horizontalalignment=\"center\",color=\"white\" if cm[i, j] > thresh else \"black\")\n",
        "pyplot.tight_layout()\n",
        "pyplot.show()"
      ],
      "metadata": {
        "colab": {
          "base_uri": "https://localhost:8080/",
          "height": 487
        },
        "id": "eVNlXzzgnADq",
        "outputId": "6d3945ec-add4-4b1e-a7c0-68d2d55f703e"
      },
      "execution_count": null,
      "outputs": [
        {
          "output_type": "display_data",
          "data": {
            "text/plain": [
              "<Figure size 640x480 with 2 Axes>"
            ],
            "image/png": "[encoded data removed]"
          },
          "metadata": {}
        }
      ]
    }
  ]
}